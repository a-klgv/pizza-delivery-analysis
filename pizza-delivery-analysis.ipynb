{
 "cells": [
  {
   "cell_type": "markdown",
   "id": "a2353d7d-e389-4484-8da1-e7316c029c1d",
   "metadata": {},
   "source": [
    "# Pizza Delivery Analysis\n",
    "\n",
    "We work for a large pizza delivery company with separate apps for couriers and customers. In the evening, delivery speed decreases because many couriers leave after their shifts, while order volume keeps growing. This causes a drop in delivery efficiency during shift changes.\n",
    "\n",
    "Data scientists developed a new algorithm that helps couriers plan their last deliveries “on the way” home, so their delivery routes align with their commute.\n",
    "\n",
    "An A/B test divides couriers into two groups: one uses the old algorithm, and the other has access to the new “on the way home” feature.\n",
    "\n",
    "We need to analyze the experiment data and decide whether to roll out the new feature to all couriers.\n",
    "\n",
    "### Data description:\n",
    "The dataset contains the following fields:\n",
    "\n",
    "order_id - order identifier\n",
    "\n",
    "delivery_time - delivery time in minutes\n",
    "\n",
    "district - delivery district\n",
    "\n",
    "experiment_group - group assignment in the experiment (control/test)"
   ]
  },
  {
   "cell_type": "markdown",
   "id": "48bc2cec-a0ac-4387-a65d-cf26a1d067ad",
   "metadata": {},
   "source": [
    "# Importing Libraries and Dataset"
   ]
  },
  {
   "cell_type": "code",
   "execution_count": 176,
   "id": "6990519d-61a9-4445-a5b0-388cd5832dd3",
   "metadata": {},
   "outputs": [],
   "source": [
    "import pandas as pd\n",
    "import numpy as np\n",
    "import scipy.stats as st\n",
    "import pingouin as pg\n",
    "\n",
    "import seaborn as sns\n",
    "import matplotlib.pyplot as plt\n",
    "\n",
    "sns.set(rc={'figure.figsize':(8,4)}, style=\"whitegrid\")"
   ]
  },
  {
   "cell_type": "code",
   "execution_count": 9,
   "id": "f92a9e66-b5d5-4bc9-86a3-30821305019b",
   "metadata": {},
   "outputs": [],
   "source": [
    "df = pd.read_csv('pizza_data.csv')"
   ]
  },
  {
   "cell_type": "code",
   "execution_count": 11,
   "id": "8ba7ebc1-44a8-4527-bf0b-afba610218c0",
   "metadata": {},
   "outputs": [
    {
     "data": {
      "text/html": [
       "<div>\n",
       "<style scoped>\n",
       "    .dataframe tbody tr th:only-of-type {\n",
       "        vertical-align: middle;\n",
       "    }\n",
       "\n",
       "    .dataframe tbody tr th {\n",
       "        vertical-align: top;\n",
       "    }\n",
       "\n",
       "    .dataframe thead th {\n",
       "        text-align: right;\n",
       "    }\n",
       "</style>\n",
       "<table border=\"1\" class=\"dataframe\">\n",
       "  <thead>\n",
       "    <tr style=\"text-align: right;\">\n",
       "      <th></th>\n",
       "      <th>order_id</th>\n",
       "      <th>delivery_time</th>\n",
       "      <th>district</th>\n",
       "      <th>experiment_group</th>\n",
       "    </tr>\n",
       "  </thead>\n",
       "  <tbody>\n",
       "    <tr>\n",
       "      <th>0</th>\n",
       "      <td>3159</td>\n",
       "      <td>44.0</td>\n",
       "      <td>Purlieus</td>\n",
       "      <td>control</td>\n",
       "    </tr>\n",
       "    <tr>\n",
       "      <th>1</th>\n",
       "      <td>10426</td>\n",
       "      <td>51.0</td>\n",
       "      <td>Purlieus</td>\n",
       "      <td>control</td>\n",
       "    </tr>\n",
       "    <tr>\n",
       "      <th>2</th>\n",
       "      <td>9155</td>\n",
       "      <td>46.0</td>\n",
       "      <td>Purlieus</td>\n",
       "      <td>control</td>\n",
       "    </tr>\n",
       "    <tr>\n",
       "      <th>3</th>\n",
       "      <td>10699</td>\n",
       "      <td>34.0</td>\n",
       "      <td>Purlieus</td>\n",
       "      <td>control</td>\n",
       "    </tr>\n",
       "    <tr>\n",
       "      <th>4</th>\n",
       "      <td>10061</td>\n",
       "      <td>43.0</td>\n",
       "      <td>Purlieus</td>\n",
       "      <td>control</td>\n",
       "    </tr>\n",
       "  </tbody>\n",
       "</table>\n",
       "</div>"
      ],
      "text/plain": [
       "   order_id  delivery_time  district experiment_group\n",
       "0      3159           44.0  Purlieus          control\n",
       "1     10426           51.0  Purlieus          control\n",
       "2      9155           46.0  Purlieus          control\n",
       "3     10699           34.0  Purlieus          control\n",
       "4     10061           43.0  Purlieus          control"
      ]
     },
     "execution_count": 11,
     "metadata": {},
     "output_type": "execute_result"
    }
   ],
   "source": [
    "df.head()"
   ]
  },
  {
   "cell_type": "markdown",
   "id": "31e4ae84-2127-4046-a366-40d622b21173",
   "metadata": {},
   "source": [
    "# Exploratory Data Analysis (EDA)"
   ]
  },
  {
   "cell_type": "code",
   "execution_count": 13,
   "id": "fe898291-7941-42ad-b48f-7076f59c6198",
   "metadata": {},
   "outputs": [
    {
     "data": {
      "text/plain": [
       "(20196, 4)"
      ]
     },
     "execution_count": 13,
     "metadata": {},
     "output_type": "execute_result"
    }
   ],
   "source": [
    "df.shape"
   ]
  },
  {
   "cell_type": "code",
   "execution_count": 15,
   "id": "b7e736af-a691-4e9d-8ecd-ecb31dd42c45",
   "metadata": {},
   "outputs": [
    {
     "data": {
      "text/plain": [
       "order_id              int64\n",
       "delivery_time       float64\n",
       "district             object\n",
       "experiment_group     object\n",
       "dtype: object"
      ]
     },
     "execution_count": 15,
     "metadata": {},
     "output_type": "execute_result"
    }
   ],
   "source": [
    "df.dtypes"
   ]
  },
  {
   "cell_type": "code",
   "execution_count": 23,
   "id": "7ad56c0f-14a5-4333-b9d9-fca1b8818676",
   "metadata": {},
   "outputs": [
    {
     "data": {
      "text/plain": [
       "order_id            20196\n",
       "delivery_time          72\n",
       "district                3\n",
       "experiment_group        2\n",
       "dtype: int64"
      ]
     },
     "execution_count": 23,
     "metadata": {},
     "output_type": "execute_result"
    }
   ],
   "source": [
    "df.nunique()"
   ]
  },
  {
   "cell_type": "code",
   "execution_count": 19,
   "id": "91c7fae4-d2f1-4faa-8fbd-54486179c218",
   "metadata": {},
   "outputs": [
    {
     "data": {
      "text/plain": [
       "order_id            0\n",
       "delivery_time       0\n",
       "district            0\n",
       "experiment_group    0\n",
       "dtype: int64"
      ]
     },
     "execution_count": 19,
     "metadata": {},
     "output_type": "execute_result"
    }
   ],
   "source": [
    "df.isna().sum()"
   ]
  },
  {
   "cell_type": "code",
   "execution_count": 30,
   "id": "5581fd0f-3b5f-4f1c-9372-56ff8644c9cd",
   "metadata": {},
   "outputs": [
    {
     "data": {
      "text/plain": [
       "experiment_group\n",
       "control    10092\n",
       "test       10104\n",
       "dtype: int64"
      ]
     },
     "execution_count": 30,
     "metadata": {},
     "output_type": "execute_result"
    }
   ],
   "source": [
    "df.groupby('experiment_group').size()"
   ]
  },
  {
   "cell_type": "markdown",
   "id": "8acc31de-8582-4ce1-885f-c05f6cbf2706",
   "metadata": {},
   "source": [
    "## EDA Summary:\n",
    "* The dataset consists of 20,196 rows and 4 columns, all values in the dataset are numeric.\n",
    "* There are no missing values in dataset.\n",
    "* The control group has 10,092 observations, ant the test group has 10,104 observations."
   ]
  },
  {
   "cell_type": "markdown",
   "id": "17d34b04-08c7-4228-b2f1-e7cf0d9d7229",
   "metadata": {},
   "source": [
    "# Analysis"
   ]
  },
  {
   "cell_type": "markdown",
   "id": "267df7ed-0938-4b38-b5a5-e77d2368e914",
   "metadata": {},
   "source": [
    "## Q1. Average Delivery Time and Number of Orders by District"
   ]
  },
  {
   "cell_type": "code",
   "execution_count": 171,
   "id": "653b2bbe-f689-42a2-90a9-a5c70e8a102c",
   "metadata": {},
   "outputs": [],
   "source": [
    "# df by district\n",
    "time_distr = df.groupby('district', as_index=False).agg({'delivery_time': 'mean', 'order_id': 'nunique'})\\\n",
    "    .rename(columns={'delivery_time': 'mean_delivery_time', 'order_id': 'orders_count'})\\\n",
    "    .round(2)"
   ]
  },
  {
   "cell_type": "code",
   "execution_count": 160,
   "id": "3f6c39c3-bbe5-4983-8e12-60eeda729968",
   "metadata": {},
   "outputs": [
    {
     "data": {
      "text/html": [
       "<div>\n",
       "<style scoped>\n",
       "    .dataframe tbody tr th:only-of-type {\n",
       "        vertical-align: middle;\n",
       "    }\n",
       "\n",
       "    .dataframe tbody tr th {\n",
       "        vertical-align: top;\n",
       "    }\n",
       "\n",
       "    .dataframe thead th {\n",
       "        text-align: right;\n",
       "    }\n",
       "</style>\n",
       "<table border=\"1\" class=\"dataframe\">\n",
       "  <thead>\n",
       "    <tr style=\"text-align: right;\">\n",
       "      <th></th>\n",
       "      <th>district</th>\n",
       "      <th>mean_delivery_time</th>\n",
       "      <th>orders_count</th>\n",
       "    </tr>\n",
       "  </thead>\n",
       "  <tbody>\n",
       "    <tr>\n",
       "      <th>0</th>\n",
       "      <td>Central</td>\n",
       "      <td>25.06</td>\n",
       "      <td>2396</td>\n",
       "    </tr>\n",
       "    <tr>\n",
       "      <th>1</th>\n",
       "      <td>Purlieus</td>\n",
       "      <td>43.43</td>\n",
       "      <td>16960</td>\n",
       "    </tr>\n",
       "    <tr>\n",
       "      <th>2</th>\n",
       "      <td>Suburb</td>\n",
       "      <td>62.80</td>\n",
       "      <td>840</td>\n",
       "    </tr>\n",
       "  </tbody>\n",
       "</table>\n",
       "</div>"
      ],
      "text/plain": [
       "   district  mean_delivery_time  orders_count\n",
       "0   Central               25.06          2396\n",
       "1  Purlieus               43.43         16960\n",
       "2    Suburb               62.80           840"
      ]
     },
     "execution_count": 160,
     "metadata": {},
     "output_type": "execute_result"
    }
   ],
   "source": [
    "time_distr"
   ]
  },
  {
   "cell_type": "code",
   "execution_count": 194,
   "id": "474fc948-074f-4f6b-ac8f-6681e97060e1",
   "metadata": {},
   "outputs": [
    {
     "data": {
      "image/png": "[encoded data removed]",
      "text/plain": [
       "<Figure size 1000x200 with 2 Axes>"
      ]
     },
     "metadata": {},
     "output_type": "display_data"
    }
   ],
   "source": [
    "sns.set(rc={'figure.figsize':(10,2)}, style=\"white\")\n",
    "\n",
    "# mean time\n",
    "plt.subplot(1,2,1)\n",
    "sns.barplot(data = time_distr, x = 'mean_delivery_time', y = 'district', color='#9B5DE5')\n",
    "plt.title('Mean Delivery Time by Districts', fontsize=10)\n",
    "plt.xlabel('mean delivery time, min', fontsize=9)\n",
    "plt.ylabel('districts', fontsize=9)\n",
    "plt.xticks(fontsize=9)\n",
    "plt.yticks(fontsize=9)\n",
    "\n",
    "# number of orders\n",
    "plt.subplot(1,2,2)\n",
    "sns.barplot(data = time_distr, x = 'orders_count', y = 'district', color='#FFBE0B')\n",
    "plt.title('Number of Orders by Districts', fontsize=10)\n",
    "plt.xlabel('number of orders', fontsize=9)\n",
    "plt.ylabel('districts', fontsize=9)\n",
    "plt.xticks(fontsize=9)\n",
    "plt.yticks(fontsize=9)\n",
    "\n",
    "plt.tight_layout()\n",
    "plt.show()"
   ]
  },
  {
   "cell_type": "markdown",
   "id": "8fb70929-4428-4db7-ba93-a4a39fcfa6a4",
   "metadata": {},
   "source": [
    "## Q1 Summary:\n",
    "* In the Suburb area, the average delivery time is the longest and exceeds 1 hour (63 minutes). However, the number of orders is very small - less than 1,000 orders. The long average delivery time may be due to low order density and greater distance between delivery points, which slows down deliveries.\n",
    "* In the Purlieus area, the average delivery time is about 42 minutes, but the number of orders is maximum (around 17,000 orders). Despite the high number of orders, delivery times remain moderate, that may be due to good logistics and infrastructure that can handle a large order volume efficiently.\n",
    "* In the Central area deliveries are the fastest (around 25 minutes) and the number of orders is medium (around 2,500 orders). Fast delivery may be due to the compactness of the area and manageable courier workload, allowing orders to be processed quickly.\n",
    "* There is only a partial inverse relationship between order volume and delivery time. When planning logistics, both order density and geographic characteristics of areas should be considered."
   ]
  },
  {
   "cell_type": "markdown",
   "id": "0b6438c0-2fd2-48ba-8dae-362450c4c0b1",
   "metadata": {},
   "source": [
    "## Q2. Hypothesis\n",
    "**H₀:** The mean delivery time is the same for the test and control groups.\n",
    "\n",
    "**H₁:** The mean delivery time differs between the test and control groups."
   ]
  },
  {
   "cell_type": "markdown",
   "id": "5fad5257-50bd-4739-bff9-171407f5ffa0",
   "metadata": {},
   "source": [
    "## Q3. Distribution of delivery time\n",
    "We visualize the distribution of delivery times separately for each experimental group, broken down by delivery district."
   ]
  },
  {
   "cell_type": "code",
   "execution_count": 202,
   "id": "0ee10722-0b41-4d70-b8b8-2b6747de0d47",
   "metadata": {},
   "outputs": [
    {
     "data": {
      "image/png": "[encoded data removed]",
      "text/plain": [
       "<Figure size 1000x400 with 2 Axes>"
      ]
     },
     "metadata": {},
     "output_type": "display_data"
    }
   ],
   "source": [
    "sns.set(rc={'figure.figsize':(10,4)}, style=\"white\")\n",
    "\n",
    "# control group\n",
    "plt.subplot(1,2,1)\n",
    "sns.histplot(data=df.query(\"experiment_group == 'control'\"), x=\"delivery_time\", hue=\"district\", kde=True)\n",
    "plt.title('Control Group - Distribution of Delivery time', fontsize=10)\n",
    "plt.xlabel('delivery time, min', fontsize=9)\n",
    "plt.ylabel('cnt', fontsize=9)\n",
    "plt.xticks(fontsize=9)\n",
    "plt.yticks(fontsize=9)\n",
    "\n",
    "# number of orders\n",
    "plt.subplot(1,2,2)\n",
    "sns.histplot(data=df.query(\"experiment_group == 'test'\"), x=\"delivery_time\", hue=\"district\", kde=True)\n",
    "plt.title('Test Group - Distribution of Delivery time', fontsize=10)\n",
    "plt.xlabel('delivery time, min', fontsize=9)\n",
    "plt.ylabel('cnt', fontsize=9)\n",
    "plt.xticks(fontsize=9)\n",
    "plt.yticks(fontsize=9)\n",
    "\n",
    "plt.tight_layout()\n",
    "plt.show()"
   ]
  },
  {
   "cell_type": "markdown",
   "id": "9b8a01f7-d216-4370-b99e-513e068daa33",
   "metadata": {},
   "source": [
    "## Q3 Summary:\n",
    "* **Control Group:** In Purlieus most deliveries take around 40 - 50 minutes, with a peak near 45. In Central district deliveries are faster, usually 25 - 30 minutes. While in Suburb deliveries are slower, often 60 – 65 minutes.\n",
    "* **Test Group:** In Purlieus distribution shifts left, most deliveries take 35 – 45 minutes, meaning they are around 5 minutes faster than in Control Group. There is a clear improvement for Central district, with the peak around 25 minutes (instead of 30 minutes before). In Suburb deliveries also seem slightly faster (around 60 minutes vs. 65 minutes).\n",
    "* In all districts, the Test Group shows lower delivery times compared to the Control Group. The biggest improvements are in Purlieus and Central. Suburb shows a smaller effect, but still in the direction of improvement."
   ]
  },
  {
   "cell_type": "markdown",
   "id": "9f74f5a6-1dbf-444a-9712-f20e97da2a83",
   "metadata": {},
   "source": [
    "## Q4. Check for normality\n",
    "We will check the assumptions of normality and calculate the standard deviation for both the test and control groups."
   ]
  },
  {
   "cell_type": "code",
   "execution_count": 222,
   "id": "91dc7022-1e00-4f35-a73c-56613da7b7a9",
   "metadata": {},
   "outputs": [
    {
     "data": {
      "text/plain": [
       "experiment_group\n",
       "control    9.990017\n",
       "test       9.883308\n",
       "Name: delivery_time, dtype: float64"
      ]
     },
     "execution_count": 222,
     "metadata": {},
     "output_type": "execute_result"
    }
   ],
   "source": [
    "# calculate the sample standard deviation\n",
    "df.groupby(\"experiment_group\").delivery_time.std()"
   ]
  },
  {
   "cell_type": "code",
   "execution_count": 224,
   "id": "78e3f307-e4c1-4961-87fd-11a372ac4109",
   "metadata": {},
   "outputs": [
    {
     "data": {
      "text/html": [
       "<div>\n",
       "<style scoped>\n",
       "    .dataframe tbody tr th:only-of-type {\n",
       "        vertical-align: middle;\n",
       "    }\n",
       "\n",
       "    .dataframe tbody tr th {\n",
       "        vertical-align: top;\n",
       "    }\n",
       "\n",
       "    .dataframe thead th {\n",
       "        text-align: right;\n",
       "    }\n",
       "</style>\n",
       "<table border=\"1\" class=\"dataframe\">\n",
       "  <thead>\n",
       "    <tr style=\"text-align: right;\">\n",
       "      <th></th>\n",
       "      <th>W</th>\n",
       "      <th>pval</th>\n",
       "      <th>normal</th>\n",
       "    </tr>\n",
       "    <tr>\n",
       "      <th>experiment_group</th>\n",
       "      <th></th>\n",
       "      <th></th>\n",
       "      <th></th>\n",
       "    </tr>\n",
       "  </thead>\n",
       "  <tbody>\n",
       "    <tr>\n",
       "      <th>control</th>\n",
       "      <td>0.253498</td>\n",
       "      <td>0.880955</td>\n",
       "      <td>True</td>\n",
       "    </tr>\n",
       "    <tr>\n",
       "      <th>test</th>\n",
       "      <td>7.024157</td>\n",
       "      <td>0.029835</td>\n",
       "      <td>False</td>\n",
       "    </tr>\n",
       "  </tbody>\n",
       "</table>\n",
       "</div>"
      ],
      "text/plain": [
       "                         W      pval  normal\n",
       "experiment_group                            \n",
       "control           0.253498  0.880955    True\n",
       "test              7.024157  0.029835   False"
      ]
     },
     "execution_count": 224,
     "metadata": {},
     "output_type": "execute_result"
    }
   ],
   "source": [
    "# testing the normality of delivery_time for each experiment group using D’Agostino and Pearson’s normality test\n",
    "# it's more appropriate for large samples (than the Shapiro–Wilk test)\n",
    "pg.normality(data=df, dv=\"delivery_time\", group=\"experiment_group\", method=\"normaltest\")"
   ]
  },
  {
   "cell_type": "markdown",
   "id": "3d6aaa64-89db-4bcd-92e1-d17b086008b1",
   "metadata": {},
   "source": [
    "## Q4 Summary:\n",
    "* The test indicates that the values in the test group are not normally distributed, while the distribution in the control group is normal.\n",
    "* Since the Test Group data are not normally distributed but the sample size is large, an independent t-test can still be used to compare group means."
   ]
  },
  {
   "cell_type": "markdown",
   "id": "2e532765-8fc4-4277-8abe-e7cbfd676a25",
   "metadata": {},
   "source": [
    "## Q5. T-test\n",
    "We perform an independent two-sample t-test to compare the delivery_time between the test and control groups, assuming equal variances."
   ]
  },
  {
   "cell_type": "code",
   "execution_count": 231,
   "id": "155512fa-b00f-4df2-9f1e-88a83d074c5b",
   "metadata": {},
   "outputs": [
    {
     "data": {
      "text/plain": [
       "TtestResult(statistic=-43.03582663183714, pvalue=0.0, df=20194.0)"
      ]
     },
     "execution_count": 231,
     "metadata": {},
     "output_type": "execute_result"
    }
   ],
   "source": [
    "#scipy\n",
    "st.ttest_ind(a=df.query(\"experiment_group == 'test'\").delivery_time, \n",
    "             b=df.query(\"experiment_group == 'control'\").delivery_time, equal_var=True)"
   ]
  },
  {
   "cell_type": "code",
   "execution_count": 233,
   "id": "64911d49-bdad-48fa-8de8-42d6fcd7bc50",
   "metadata": {},
   "outputs": [
    {
     "data": {
      "text/html": [
       "<div>\n",
       "<style scoped>\n",
       "    .dataframe tbody tr th:only-of-type {\n",
       "        vertical-align: middle;\n",
       "    }\n",
       "\n",
       "    .dataframe tbody tr th {\n",
       "        vertical-align: top;\n",
       "    }\n",
       "\n",
       "    .dataframe thead th {\n",
       "        text-align: right;\n",
       "    }\n",
       "</style>\n",
       "<table border=\"1\" class=\"dataframe\">\n",
       "  <thead>\n",
       "    <tr style=\"text-align: right;\">\n",
       "      <th></th>\n",
       "      <th>T</th>\n",
       "      <th>dof</th>\n",
       "      <th>alternative</th>\n",
       "      <th>p-val</th>\n",
       "      <th>CI95%</th>\n",
       "      <th>cohen-d</th>\n",
       "      <th>BF10</th>\n",
       "      <th>power</th>\n",
       "    </tr>\n",
       "  </thead>\n",
       "  <tbody>\n",
       "    <tr>\n",
       "      <th>T-test</th>\n",
       "      <td>-43.035552</td>\n",
       "      <td>20191.127788</td>\n",
       "      <td>two-sided</td>\n",
       "      <td>0.0</td>\n",
       "      <td>[-6.29, -5.74]</td>\n",
       "      <td>0.605658</td>\n",
       "      <td>inf</td>\n",
       "      <td>1.0</td>\n",
       "    </tr>\n",
       "  </tbody>\n",
       "</table>\n",
       "</div>"
      ],
      "text/plain": [
       "                T           dof alternative  p-val           CI95%   cohen-d  \\\n",
       "T-test -43.035552  20191.127788   two-sided    0.0  [-6.29, -5.74]  0.605658   \n",
       "\n",
       "       BF10  power  \n",
       "T-test  inf    1.0  "
      ]
     },
     "execution_count": 233,
     "metadata": {},
     "output_type": "execute_result"
    }
   ],
   "source": [
    "#pingouin\n",
    "pg.ttest(x=df.query(\"experiment_group == 'test'\").delivery_time, \n",
    "         y=df.query(\"experiment_group == 'control'\").delivery_time)"
   ]
  },
  {
   "cell_type": "markdown",
   "id": "ac87090e-2424-4b1d-b57e-0e77289ce4bd",
   "metadata": {},
   "source": [
    "## Q5 Summary:\n",
    "The independent t-test revealed a significant difference in delivery times between the test and control groups, the p-value is ≤ 0.05. These results provide strong evidence to reject the null hypothesis."
   ]
  },
  {
   "cell_type": "markdown",
   "id": "e513710c-4232-495a-a078-1e915ff45952",
   "metadata": {},
   "source": [
    "# Overall Project Conclusion:\n",
    "* There is only a partial inverse relationship between order volume and delivery time, highlighting the importance of both geographic and logistical factors.\n",
    "* Across all areas, the Test Group shows reduced delivery times compared to the Control Group. Largest improvements are observed in Purlieus and Central, with Suburb showing modest but positive improvement.\n",
    "* Distribution tests indicate the Test Group’s delivery times are non-normal, while the Control Group is normally distributed.\n",
    "* An independent t-test confirms that the reduction in delivery time in the Test Group is statistically significant (p ≤ 0.05). This provides strong evidence to reject the null hypothesis of no difference.\n",
    "* The intervention effectively reduces delivery times across all districts, with the greatest impact in high-density areas. \r\n",
    "We are rolling out the new algorithm to everyone, because the average delivery time changed significantl35%."
   ]
  }
 ],
 "metadata": {
  "kernelspec": {
   "display_name": "Python 3 (ipykernel)",
   "language": "python",
   "name": "python3"
  },
  "language_info": {
   "codemirror_mode": {
    "name": "ipython",
    "version": 3
   },
   "file_extension": ".py",
   "mimetype": "text/x-python",
   "name": "python",
   "nbconvert_exporter": "python",
   "pygments_lexer": "ipython3",
   "version": "3.12.4"
  }
 },
 "nbformat": 4,
 "nbformat_minor": 5
}
